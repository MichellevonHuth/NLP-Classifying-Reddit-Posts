{
 "cells": [
  {
   "attachments": {},
   "cell_type": "markdown",
   "id": "63c73c67-1cb0-41bf-a944-0026c00957ec",
   "metadata": {},
   "source": [
    "### Install dependencies"
   ]
  },
  {
   "cell_type": "code",
   "execution_count": 1,
   "id": "00e9661e",
   "metadata": {},
   "outputs": [
    {
     "name": "stdout",
     "output_type": "stream",
     "text": [
      "Note: you may need to restart the kernel to use updated packages.\n"
     ]
    }
   ],
   "source": [
    "pip install tensorflow scikit-learn pandas matplotlib prettytable gensim --quiet"
   ]
  },
  {
   "attachments": {},
   "cell_type": "markdown",
   "id": "84de7e84-8dd4-43a9-84f1-86bd0a6d63d2",
   "metadata": {},
   "source": [
    "### Import libraries"
   ]
  },
  {
   "cell_type": "code",
   "execution_count": null,
   "id": "89bc0980",
   "metadata": {
    "execution": {
     "iopub.execute_input": "2023-05-16T19:39:15.624977Z",
     "iopub.status.busy": "2023-05-16T19:39:15.624107Z",
     "iopub.status.idle": "2023-05-16T19:39:15.636939Z",
     "shell.execute_reply": "2023-05-16T19:39:15.634722Z",
     "shell.execute_reply.started": "2023-05-16T19:39:15.624937Z"
    },
    "tags": []
   },
   "outputs": [],
   "source": [
    "import random\n",
    "import matplotlib.pyplot as plt\n",
    "import matplotlib\n",
    "import numpy as np\n",
    "import pandas as pd\n",
    "import pickle\n",
    "import gensim\n",
    "import time\n",
    "import tensorflow as tf\n",
    "\n",
    "from prettytable import PrettyTable\n",
    "\n",
    "from sklearn.preprocessing import StandardScaler\n",
    "from sklearn.model_selection import train_test_split\n",
    "from sklearn.preprocessing import LabelBinarizer\n",
    "from sklearn.metrics import confusion_matrix\n",
    "from sklearn.metrics import classification_report\n",
    "\n",
    "from tensorflow import keras\n",
    "from tensorflow.keras.layers import BatchNormalization\n",
    "from tensorflow.keras import layers\n",
    "from tensorflow.keras import Sequential\n",
    "from tensorflow.keras.layers import Dense, Dropout\n",
    "from tensorflow.keras.utils import to_categorical\n"
   ]
  },
  {
   "attachments": {},
   "cell_type": "markdown",
   "id": "ab55bd5e-100d-4307-9009-c9f11a928ba9",
   "metadata": {},
   "source": [
    "### Load and split dataset with Word2Vec embeddings"
   ]
  },
  {
   "cell_type": "code",
   "execution_count": null,
   "id": "aebad4e9",
   "metadata": {
    "execution": {
     "iopub.execute_input": "2023-05-16T19:38:33.820215Z",
     "iopub.status.busy": "2023-05-16T19:38:33.819471Z",
     "iopub.status.idle": "2023-05-16T19:38:49.282820Z",
     "shell.execute_reply": "2023-05-16T19:38:49.281250Z",
     "shell.execute_reply.started": "2023-05-16T19:38:33.820169Z"
    },
    "tags": []
   },
   "outputs": [],
   "source": [
    "# Load dense\n",
    "X_train_dense, X_test_dense, y_train_dense, y_test_dense, w2v_train, w2v_test = pd.read_pickle(\"pickles/dense.pkl\")"
   ]
  },
  {
   "cell_type": "code",
   "execution_count": 10,
   "id": "7ce84a15-1eab-49ab-8bc4-9bac4a5b9389",
   "metadata": {
    "execution": {
     "iopub.execute_input": "2023-05-16T19:38:49.309082Z",
     "iopub.status.busy": "2023-05-16T19:38:49.308623Z",
     "iopub.status.idle": "2023-05-16T19:38:49.469166Z",
     "shell.execute_reply": "2023-05-16T19:38:49.466941Z",
     "shell.execute_reply.started": "2023-05-16T19:38:49.309046Z"
    },
    "tags": []
   },
   "outputs": [],
   "source": [
    "# Split data into train and validation sets\n",
    "X_train, X_val, y_train, y_val = train_test_split(X_train_dense, y_train_dense, test_size=0.8, random_state=42)"
   ]
  },
  {
   "attachments": {},
   "cell_type": "markdown",
   "id": "4bf01906-185d-4793-bae0-b5a40584cb55",
   "metadata": {},
   "source": [
    "### Scaling and encoding"
   ]
  },
  {
   "cell_type": "code",
   "execution_count": 11,
   "id": "42a9693c-c10d-44f6-9bf4-8f0763fba6fa",
   "metadata": {
    "execution": {
     "iopub.execute_input": "2023-05-16T19:39:00.903767Z",
     "iopub.status.busy": "2023-05-16T19:39:00.903356Z",
     "iopub.status.idle": "2023-05-16T19:39:02.359384Z",
     "shell.execute_reply": "2023-05-16T19:39:02.354481Z",
     "shell.execute_reply.started": "2023-05-16T19:39:00.903740Z"
    },
    "tags": []
   },
   "outputs": [],
   "source": [
    "# One-hot encode labels \n",
    "encoder = LabelBinarizer()\n",
    "y_train_enc = encoder.fit_transform(y_train)\n",
    "y_val_enc = encoder.fit_transform(y_val)\n",
    "y_test_enc = encoder.fit_transform(y_test_dense)"
   ]
  },
  {
   "cell_type": "code",
   "execution_count": 12,
   "id": "15701825-1d37-4866-acc0-e95bcf1b27de",
   "metadata": {
    "execution": {
     "iopub.execute_input": "2023-05-16T19:39:02.391210Z",
     "iopub.status.busy": "2023-05-16T19:39:02.390911Z",
     "iopub.status.idle": "2023-05-16T19:39:04.373475Z",
     "shell.execute_reply": "2023-05-16T19:39:04.372328Z",
     "shell.execute_reply.started": "2023-05-16T19:39:02.391188Z"
    },
    "tags": []
   },
   "outputs": [],
   "source": [
    "# Scale the w2w feature vectors\n",
    "scaler = StandardScaler()\n",
    "X_train_scaled = scaler.fit_transform(X_train)\n",
    "X_val_scaled = scaler.fit_transform(X_val)\n",
    "X_test_scaled = scaler.fit_transform(X_test_dense)"
   ]
  },
  {
   "attachments": {},
   "cell_type": "markdown",
   "id": "99f66b12-676c-4e51-b15f-1a3d061d741e",
   "metadata": {},
   "source": [
    "### Build and train the Word2Vec MLP classifier"
   ]
  },
  {
   "cell_type": "code",
   "execution_count": 29,
   "id": "1dbcc22e-57ed-4928-8c0a-8c946f493101",
   "metadata": {
    "execution": {
     "iopub.execute_input": "2023-05-16T19:51:18.845120Z",
     "iopub.status.busy": "2023-05-16T19:51:18.844274Z",
     "iopub.status.idle": "2023-05-16T19:54:37.923860Z",
     "shell.execute_reply": "2023-05-16T19:54:37.921593Z",
     "shell.execute_reply.started": "2023-05-16T19:51:18.845067Z"
    },
    "tags": []
   },
   "outputs": [
    {
     "name": "stdout",
     "output_type": "stream",
     "text": [
      "Epoch 1/100\n",
      "960/960 [==============================] - 17s 15ms/step - loss: 1.3188 - accuracy: 0.5350 - val_loss: 1.0648 - val_accuracy: 0.6214\n",
      "Epoch 2/100\n",
      "960/960 [==============================] - 14s 15ms/step - loss: 1.0976 - accuracy: 0.6077 - val_loss: 1.0266 - val_accuracy: 0.6352\n",
      "Epoch 3/100\n",
      "960/960 [==============================] - 14s 15ms/step - loss: 1.0414 - accuracy: 0.6277 - val_loss: 1.0267 - val_accuracy: 0.6366\n",
      "Epoch 4/100\n",
      "960/960 [==============================] - 14s 14ms/step - loss: 1.0183 - accuracy: 0.6362 - val_loss: 1.0059 - val_accuracy: 0.6429\n",
      "Epoch 5/100\n",
      "960/960 [==============================] - 14s 15ms/step - loss: 1.0044 - accuracy: 0.6418 - val_loss: 1.0106 - val_accuracy: 0.6437\n",
      "Epoch 6/100\n",
      "960/960 [==============================] - 14s 14ms/step - loss: 0.9861 - accuracy: 0.6468 - val_loss: 0.9983 - val_accuracy: 0.6466\n",
      "Epoch 7/100\n",
      "960/960 [==============================] - 14s 15ms/step - loss: 0.9752 - accuracy: 0.6504 - val_loss: 1.0041 - val_accuracy: 0.6444\n",
      "Epoch 8/100\n",
      "960/960 [==============================] - 14s 15ms/step - loss: 0.9645 - accuracy: 0.6544 - val_loss: 1.0018 - val_accuracy: 0.6472\n",
      "Epoch 9/100\n",
      "960/960 [==============================] - 14s 14ms/step - loss: 0.9511 - accuracy: 0.6615 - val_loss: 0.9958 - val_accuracy: 0.6482\n",
      "Epoch 10/100\n",
      "960/960 [==============================] - 14s 14ms/step - loss: 0.9388 - accuracy: 0.6599 - val_loss: 1.0097 - val_accuracy: 0.6469\n",
      "Epoch 11/100\n",
      "960/960 [==============================] - 14s 14ms/step - loss: 0.9278 - accuracy: 0.6676 - val_loss: 0.9984 - val_accuracy: 0.6475\n",
      "Epoch 12/100\n",
      "960/960 [==============================] - 14s 15ms/step - loss: 0.9178 - accuracy: 0.6706 - val_loss: 1.0056 - val_accuracy: 0.6485\n",
      "Epoch 13/100\n",
      "960/960 [==============================] - 14s 15ms/step - loss: 0.9126 - accuracy: 0.6726 - val_loss: 1.0135 - val_accuracy: 0.6489\n",
      "Epoch 14/100\n",
      "960/960 [==============================] - 14s 15ms/step - loss: 0.9022 - accuracy: 0.6741 - val_loss: 1.0086 - val_accuracy: 0.6468\n",
      "CPU times: user 4min 19s, sys: 44.4 s, total: 5min 4s\n",
      "Wall time: 3min 18s\n"
     ]
    }
   ],
   "source": [
    "model = keras.models.Sequential([\n",
    "    keras.layers.Dense(64, input_shape=(300,), activation='tanh'),\n",
    "    keras.layers.BatchNormalization(),\n",
    "    keras.layers.Dropout(0.2),\n",
    "    keras.layers.Dense(128, activation='tanh'),\n",
    "    keras.layers.BatchNormalization(),\n",
    "    keras.layers.Dropout(0.2),\n",
    "    keras.layers.Dense(256, activation='tanh'),\n",
    "    keras.layers.BatchNormalization(),\n",
    "    keras.layers.Dropout(0.2),\n",
    "    keras.layers.Dense(6, activation='softmax')\n",
    "])\n",
    "\n",
    "# Compile the model\n",
    "model.compile(loss = \"categorical_crossentropy\", optimizer = \"adam\", metrics = ['accuracy'])\n",
    "\n",
    "# Define the early stopping callback\n",
    "early_stop = tf.keras.callbacks.EarlyStopping(monitor = 'val_loss', patience = 5)\n",
    "\n",
    "# Train the model with early stopping\n",
    "%time history = model.fit(X_train_scaled, y_train_enc, batch_size = 32, epochs = 100, validation_data = (X_val_scaled, y_val_enc), callbacks = [early_stop])"
   ]
  },
  {
   "attachments": {},
   "cell_type": "markdown",
   "id": "44546be9-331c-4111-80de-df2e71ee5960",
   "metadata": {},
   "source": [
    "### Training evaluation"
   ]
  },
  {
   "attachments": {},
   "cell_type": "markdown",
   "id": "b20727bf-d4e4-4404-ae71-b0c6ed93f62e",
   "metadata": {},
   "source": [
    "**Loss**"
   ]
  },
  {
   "cell_type": "code",
   "execution_count": 27,
   "id": "e99054e6-a602-4e6f-aded-f3ae9f346b49",
   "metadata": {
    "execution": {
     "iopub.execute_input": "2023-05-16T19:50:24.658382Z",
     "iopub.status.busy": "2023-05-16T19:50:24.657705Z",
     "iopub.status.idle": "2023-05-16T19:50:33.079283Z",
     "shell.execute_reply": "2023-05-16T19:50:33.077182Z",
     "shell.execute_reply.started": "2023-05-16T19:50:24.658323Z"
    },
    "tags": []
   },
   "outputs": [
    {
     "name": "stdout",
     "output_type": "stream",
     "text": [
      "3838/3838 - 8s - loss: 0.9673 - accuracy: 0.6570 - 8s/epoch - 2ms/step\n"
     ]
    },
    {
     "data": {
      "image/png": "[encoded data removed]",
      "text/plain": [
       "<Figure size 640x480 with 1 Axes>"
      ]
     },
     "metadata": {},
     "output_type": "display_data"
    }
   ],
   "source": [
    "# Evaluate loss (train vs. val)\n",
    "plt.plot(history.history['loss'], label='Training Loss')\n",
    "plt.plot(history.history['val_loss'], label = 'Validation Loss')\n",
    "plt.xlabel('Epoch')\n",
    "plt.ylabel('Loss')\n",
    "plt.ylim([0, 3])\n",
    "#plt.xticks(np.arange(0, +1, 5.0))\n",
    "plt.legend(loc='lower right')\n",
    "\n",
    "validation_loss, validation_acc = model.evaluate(X_val_scaled,  y_val_enc, verbose=2)"
   ]
  },
  {
   "attachments": {},
   "cell_type": "markdown",
   "id": "cf3c14db-15f8-4269-bbeb-9582e2771789",
   "metadata": {},
   "source": [
    "### Predict and evaluate performance on test set (out-of-sample)"
   ]
  },
  {
   "attachments": {},
   "cell_type": "markdown",
   "id": "20aff460-7cc0-4ed2-9d70-d77cc6d0e77b",
   "metadata": {},
   "source": [
    "**Predict on the test set**"
   ]
  },
  {
   "cell_type": "code",
   "execution_count": 22,
   "id": "6c59ee48-1608-418f-b5ac-4098b16b21c7",
   "metadata": {
    "execution": {
     "iopub.execute_input": "2023-05-16T19:46:39.403352Z",
     "iopub.status.busy": "2023-05-16T19:46:39.402892Z",
     "iopub.status.idle": "2023-05-16T19:46:45.122359Z",
     "shell.execute_reply": "2023-05-16T19:46:45.120952Z",
     "shell.execute_reply.started": "2023-05-16T19:46:39.403319Z"
    },
    "tags": []
   },
   "outputs": [
    {
     "name": "stdout",
     "output_type": "stream",
     "text": [
      "3571/3571 [==============================] - 4s 1ms/step\n"
     ]
    }
   ],
   "source": [
    "# Predict the labels for the test set\n",
    "y_pred_prob = model.predict(X_test_scaled)\n",
    "\n",
    "# Convert probabilities to class labels\n",
    "y_pred = np.argmax(y_pred_prob, axis=1)\n",
    "y_test_labels = np.argmax(y_test_enc, axis=1)"
   ]
  },
  {
   "attachments": {},
   "cell_type": "markdown",
   "id": "282aec36-6a3a-410f-9714-d44db105cce2",
   "metadata": {},
   "source": [
    "**Confusion matrix**"
   ]
  },
  {
   "cell_type": "code",
   "execution_count": 23,
   "id": "fd030671-d114-4cb1-94c3-e84ebbfc1f4b",
   "metadata": {
    "execution": {
     "iopub.execute_input": "2023-05-16T19:46:47.501350Z",
     "iopub.status.busy": "2023-05-16T19:46:47.500677Z",
     "iopub.status.idle": "2023-05-16T19:46:47.530742Z",
     "shell.execute_reply": "2023-05-16T19:46:47.528599Z",
     "shell.execute_reply.started": "2023-05-16T19:46:47.501303Z"
    },
    "tags": []
   },
   "outputs": [
    {
     "name": "stdout",
     "output_type": "stream",
     "text": [
      "+---------+---------+---------+---------+---------+---------+---------+\n",
      "|         | Class 0 | Class 1 | Class 2 | Class 3 | Class 4 | Class 5 |\n",
      "+---------+---------+---------+---------+---------+---------+---------+\n",
      "| Class 0 |  31076  |   1738  |   2053  |   3848  |   1535  |   775   |\n",
      "| Class 1 |   2689  |  23581  |   1239  |   2139  |   1646  |   819   |\n",
      "| Class 2 |   716   |   438   |   4633  |   581   |   252   |   498   |\n",
      "| Class 3 |   3901  |   1521  |   1373  |  15668  |   1279  |   452   |\n",
      "| Class 4 |   1459  |   793   |   835   |   1502  |   2182  |   712   |\n",
      "| Class 5 |   168   |   131   |   375   |   162   |   178   |   1309  |\n",
      "+---------+---------+---------+---------+---------+---------+---------+\n"
     ]
    }
   ],
   "source": [
    "# Compute the confusion matrix\n",
    "confusion_mtx = confusion_matrix(y_test_labels, y_pred)\n",
    "\n",
    "# Create PrettyTable table object\n",
    "table = PrettyTable()\n",
    "table.field_names = [\"\", \"Class 0\", \"Class 1\", \"Class 2\", \"Class 3\", \"Class 4\", \"Class 5\"]\n",
    "\n",
    "# Add the rows to the table\n",
    "for i in range(len(confusion_mtx)):\n",
    "    row = [\"Class \" + str(i)]\n",
    "    row.extend(confusion_mtx[i])\n",
    "    table.add_row(row)\n",
    "\n",
    "# Print the confusion matrix table \n",
    "print(table)"
   ]
  },
  {
   "attachments": {},
   "cell_type": "markdown",
   "id": "eb2d4713-3c27-4c2b-ab86-a21fd15cb270",
   "metadata": {},
   "source": [
    "**Classification report**"
   ]
  },
  {
   "cell_type": "code",
   "execution_count": 24,
   "id": "6e1ad0b2-c644-443d-96be-89c2eedf3742",
   "metadata": {
    "execution": {
     "iopub.execute_input": "2023-05-16T19:46:52.418908Z",
     "iopub.status.busy": "2023-05-16T19:46:52.418272Z",
     "iopub.status.idle": "2023-05-16T19:46:52.623211Z",
     "shell.execute_reply": "2023-05-16T19:46:52.622403Z",
     "shell.execute_reply.started": "2023-05-16T19:46:52.418861Z"
    },
    "tags": []
   },
   "outputs": [
    {
     "name": "stdout",
     "output_type": "stream",
     "text": [
      "+--------------+-----------+--------+----------+---------+\n",
      "|    Class     | Precision | Recall | F1-score | Support |\n",
      "+--------------+-----------+--------+----------+---------+\n",
      "|      0       |    0.78   |  0.76  |   0.77   |  41025  |\n",
      "|      1       |    0.84   |  0.73  |   0.78   |  32113  |\n",
      "|      2       |    0.44   |  0.65  |   0.53   |   7118  |\n",
      "|      3       |    0.66   |  0.65  |   0.65   |  24194  |\n",
      "|      4       |    0.31   |  0.29  |   0.3    |   7483  |\n",
      "|      5       |    0.29   |  0.56  |   0.38   |   2323  |\n",
      "|  macro avg   |    0.55   |  0.61  |   0.57   |         |\n",
      "| weighted avg |    0.71   |  0.69  |   0.69   |         |\n",
      "+--------------+-----------+--------+----------+---------+\n"
     ]
    }
   ],
   "source": [
    "from sklearn.metrics import classification_report\n",
    "from prettytable import PrettyTable\n",
    "\n",
    "# Generate the classification report\n",
    "class_report = classification_report(y_test_labels, y_pred, output_dict=True)\n",
    "\n",
    "# Create the PrettyTable\n",
    "table = PrettyTable()\n",
    "table.field_names = ['Class', 'Precision', 'Recall', 'F1-score', 'Support']\n",
    "\n",
    "# Loop through each class in the classification report and add its metrics to the table\n",
    "for class_name, metrics in class_report.items():\n",
    "    if class_name.isnumeric():\n",
    "        class_id = int(class_name)\n",
    "        precision = round(metrics['precision'], 2)\n",
    "        recall = round(metrics['recall'], 2)\n",
    "        f1_score = round(metrics['f1-score'], 2)\n",
    "        support = metrics['support']\n",
    "        table.add_row([class_id, precision, recall, f1_score, support])\n",
    "\n",
    "# Add the macro and weighted averages to the table\n",
    "macro_precision = round(class_report['macro avg']['precision'], 2)\n",
    "macro_recall = round(class_report['macro avg']['recall'], 2)\n",
    "macro_f1_score = round(class_report['macro avg']['f1-score'], 2)\n",
    "table.add_row(['macro avg', macro_precision, macro_recall, macro_f1_score, ''])\n",
    "\n",
    "weighted_precision = round(class_report['weighted avg']['precision'], 2)\n",
    "weighted_recall = round(class_report['weighted avg']['recall'], 2)\n",
    "weighted_f1_score = round(class_report['weighted avg']['f1-score'], 2)\n",
    "table.add_row(['weighted avg', weighted_precision, weighted_recall, weighted_f1_score, ''])\n",
    "\n",
    "# Print the table\n",
    "print(table)\n"
   ]
  },
  {
   "cell_type": "code",
   "execution_count": null,
   "id": "c1fcc160-404a-4ff8-a326-20c0259a1884",
   "metadata": {},
   "outputs": [],
   "source": []
  }
 ],
 "metadata": {
  "kernelspec": {
   "display_name": "Python 3 (ipykernel)",
   "language": "python",
   "name": "python3"
  },
  "language_info": {
   "codemirror_mode": {
    "name": "ipython",
    "version": 3
   },
   "file_extension": ".py",
   "mimetype": "text/x-python",
   "name": "python",
   "nbconvert_exporter": "python",
   "pygments_lexer": "ipython3",
   "version": "3.9.13"
  }
 },
 "nbformat": 4,
 "nbformat_minor": 5
}
