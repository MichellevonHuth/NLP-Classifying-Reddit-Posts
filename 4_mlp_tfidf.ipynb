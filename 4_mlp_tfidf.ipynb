{
 "cells": [
  {
   "cell_type": "code",
   "execution_count": 16,
   "id": "c8536797-0a1a-4425-8e22-ef2e29ee556f",
   "metadata": {
    "execution": {
     "iopub.execute_input": "2023-05-16T19:00:39.319534Z",
     "iopub.status.busy": "2023-05-16T19:00:39.318723Z",
     "iopub.status.idle": "2023-05-16T19:00:39.326012Z",
     "shell.execute_reply": "2023-05-16T19:00:39.323879Z",
     "shell.execute_reply.started": "2023-05-16T19:00:39.319469Z"
    },
    "tags": []
   },
   "outputs": [],
   "source": [
    "# NB requires 190 GB RAM to run!"
   ]
  },
  {
   "attachments": {},
   "cell_type": "markdown",
   "id": "66076417-10a4-497d-b2e8-b493b6a227ad",
   "metadata": {},
   "source": [
    "### Install dependencies"
   ]
  },
  {
   "cell_type": "code",
   "execution_count": 1,
   "id": "5b1e071e-9c5f-408d-b013-73d2a1ac8c2e",
   "metadata": {
    "execution": {
     "iopub.execute_input": "2023-05-17T12:30:06.046600Z",
     "iopub.status.busy": "2023-05-17T12:30:06.045909Z",
     "iopub.status.idle": "2023-05-17T12:31:16.218825Z",
     "shell.execute_reply": "2023-05-17T12:31:16.215952Z",
     "shell.execute_reply.started": "2023-05-17T12:30:06.046529Z"
    },
    "tags": []
   },
   "outputs": [
    {
     "name": "stdout",
     "output_type": "stream",
     "text": [
      "Note: you may need to restart the kernel to use updated packages.\n"
     ]
    }
   ],
   "source": [
    "pip install tensorflow scikit-learn pandas matplotlib prettytable --quiet"
   ]
  },
  {
   "attachments": {},
   "cell_type": "markdown",
   "id": "cec506e7-af9d-4922-a394-a12d8d65a395",
   "metadata": {},
   "source": [
    "### Import libraries"
   ]
  },
  {
   "cell_type": "code",
   "execution_count": null,
   "id": "ace51d06",
   "metadata": {
    "execution": {
     "iopub.execute_input": "2023-05-17T12:31:16.235169Z",
     "iopub.status.busy": "2023-05-17T12:31:16.234869Z",
     "iopub.status.idle": "2023-05-17T12:31:18.878810Z",
     "shell.execute_reply": "2023-05-17T12:31:18.878125Z",
     "shell.execute_reply.started": "2023-05-17T12:31:16.235142Z"
    },
    "tags": []
   },
   "outputs": [],
   "source": [
    "import random\n",
    "import matplotlib.pyplot as plt\n",
    "import matplotlib\n",
    "import numpy as np\n",
    "import tensorflow as tf\n",
    "import pickle\n",
    "import pandas as pd\n",
    "import time\n",
    "\n",
    "from prettytable import PrettyTable\n",
    "\n",
    "from sklearn.preprocessing import StandardScaler\n",
    "from sklearn.model_selection import train_test_split\n",
    "from sklearn.preprocessing import LabelBinarizer\n",
    "from sklearn.metrics import confusion_matrix\n",
    "from sklearn.metrics import classification_report\n",
    "\n",
    "from tensorflow import keras\n",
    "from tensorflow.keras import regularizers\n",
    "from keras.utils.np_utils import to_categorical\n",
    "from tensorflow.keras import layers\n",
    "from tensorflow.keras import Sequential\n",
    "from tensorflow.keras.layers import Dense, Dropout\n",
    "from tensorflow.keras.utils import to_categorical\n"
   ]
  },
  {
   "attachments": {},
   "cell_type": "markdown",
   "id": "44d84da8-c927-40b7-8f55-04932ad0cad8",
   "metadata": {},
   "source": [
    "### Load and split the dataset w. TF-IDF embeddings"
   ]
  },
  {
   "cell_type": "code",
   "execution_count": null,
   "id": "66f1344a-f523-4992-b0d4-7c07bacff2cf",
   "metadata": {
    "execution": {
     "iopub.execute_input": "2023-05-17T12:31:18.881356Z",
     "iopub.status.busy": "2023-05-17T12:31:18.880752Z",
     "iopub.status.idle": "2023-05-17T12:31:22.809355Z",
     "shell.execute_reply": "2023-05-17T12:31:22.808522Z",
     "shell.execute_reply.started": "2023-05-17T12:31:18.881333Z"
    },
    "tags": []
   },
   "outputs": [],
   "source": [
    "# Load sparse tf-idf data\n",
    "X_train_sparse, X_test_sparse, y_train_sparse, y_test_sparse, org_train, org_test = pd.read_pickle(\"pickles/sparse.pkl\")"
   ]
  },
  {
   "cell_type": "code",
   "execution_count": 4,
   "id": "7ce84a15-1eab-49ab-8bc4-9bac4a5b9389",
   "metadata": {
    "execution": {
     "iopub.execute_input": "2023-05-17T12:31:22.810493Z",
     "iopub.status.busy": "2023-05-17T12:31:22.810283Z",
     "iopub.status.idle": "2023-05-17T12:31:22.876055Z",
     "shell.execute_reply": "2023-05-17T12:31:22.875165Z",
     "shell.execute_reply.started": "2023-05-17T12:31:22.810473Z"
    },
    "tags": []
   },
   "outputs": [],
   "source": [
    "# Split to train and validation sets\n",
    "X_train_sparse, X_val_sparse, y_train_sparse, y_val_sparse = train_test_split(X_train_sparse, y_train_sparse, test_size=0.2, random_state=42)"
   ]
  },
  {
   "attachments": {},
   "cell_type": "markdown",
   "id": "853b4010-40f6-478b-b0cc-887a5a6bcde5",
   "metadata": {},
   "source": [
    "### Scaling and encoding"
   ]
  },
  {
   "cell_type": "code",
   "execution_count": 5,
   "id": "cb20b4a6-bf4d-4e14-9d4e-50ebf8cf2c59",
   "metadata": {
    "execution": {
     "iopub.execute_input": "2023-05-17T12:32:51.731170Z",
     "iopub.status.busy": "2023-05-17T12:32:51.730361Z",
     "iopub.status.idle": "2023-05-17T12:32:52.280471Z",
     "shell.execute_reply": "2023-05-17T12:32:52.279666Z",
     "shell.execute_reply.started": "2023-05-17T12:32:51.731109Z"
    },
    "tags": []
   },
   "outputs": [],
   "source": [
    "# One-hot encode labels \n",
    "encoder = LabelBinarizer()\n",
    "y_train_enc = encoder.fit_transform(y_train_sparse)\n",
    "y_val_enc = encoder.transform(y_val_sparse)\n",
    "\n",
    "# Transform the test set labels using the existing LabelBinarizer\n",
    "y_test_enc = encoder.transform(y_test_sparse)"
   ]
  },
  {
   "cell_type": "code",
   "execution_count": 6,
   "id": "337301ff-703d-4fba-9a88-d9e7c9f3ce28",
   "metadata": {
    "execution": {
     "iopub.execute_input": "2023-05-17T12:32:52.282103Z",
     "iopub.status.busy": "2023-05-17T12:32:52.281794Z",
     "iopub.status.idle": "2023-05-17T12:32:52.554841Z",
     "shell.execute_reply": "2023-05-17T12:32:52.553951Z",
     "shell.execute_reply.started": "2023-05-17T12:32:52.282080Z"
    },
    "tags": []
   },
   "outputs": [],
   "source": [
    "# Scale the TFiDF feature vectors\n",
    "scaler = StandardScaler(with_mean = False)\n",
    "X_train_scaled = scaler.fit_transform(X_train_sparse)\n",
    "X_val_scaled = scaler.transform(X_val_sparse)\n",
    "X_test_scaled = scaler.transform(X_test_sparse)"
   ]
  },
  {
   "cell_type": "code",
   "execution_count": 7,
   "id": "93e8d586-752b-4c73-8798-9141701dcc34",
   "metadata": {
    "execution": {
     "iopub.execute_input": "2023-05-17T12:32:54.391526Z",
     "iopub.status.busy": "2023-05-17T12:32:54.390803Z",
     "iopub.status.idle": "2023-05-17T12:34:05.158385Z",
     "shell.execute_reply": "2023-05-17T12:34:05.156887Z",
     "shell.execute_reply.started": "2023-05-17T12:32:54.391469Z"
    },
    "tags": []
   },
   "outputs": [],
   "source": [
    "#Convert X train and X validation csr_matrix into tensors\n",
    "X_train_tensor = tf.convert_to_tensor(X_train_scaled.toarray())\n",
    "X_val_tensor = tf.convert_to_tensor(X_val_scaled.toarray())"
   ]
  },
  {
   "attachments": {},
   "cell_type": "markdown",
   "id": "c33bf7cf-31cd-418c-b592-6f9740bee22b",
   "metadata": {},
   "source": [
    "### Build and train the TF-IDF MLP classifier"
   ]
  },
  {
   "cell_type": "code",
   "execution_count": 17,
   "id": "428c4e0b-1b2d-4956-b244-94346ca6bfc5",
   "metadata": {
    "execution": {
     "iopub.execute_input": "2023-05-17T13:27:44.549809Z",
     "iopub.status.busy": "2023-05-17T13:27:44.548934Z",
     "iopub.status.idle": "2023-05-17T13:58:35.270323Z",
     "shell.execute_reply": "2023-05-17T13:58:35.268437Z",
     "shell.execute_reply.started": "2023-05-17T13:27:44.549748Z"
    },
    "tags": []
   },
   "outputs": [
    {
     "name": "stdout",
     "output_type": "stream",
     "text": [
      "Epoch 1/100\n",
      "3839/3839 [==============================] - 46s 12ms/step - loss: 2.9213 - accuracy: 0.5546 - val_loss: 2.9496 - val_accuracy: 0.5977\n",
      "Epoch 2/100\n",
      "3839/3839 [==============================] - 45s 12ms/step - loss: 2.8102 - accuracy: 0.5995 - val_loss: 2.8712 - val_accuracy: 0.5901\n",
      "Epoch 3/100\n",
      "3839/3839 [==============================] - 48s 12ms/step - loss: 2.7799 - accuracy: 0.5974 - val_loss: 2.8313 - val_accuracy: 0.5932\n",
      "Epoch 4/100\n",
      "3839/3839 [==============================] - 45s 12ms/step - loss: 2.7045 - accuracy: 0.6035 - val_loss: 2.7562 - val_accuracy: 0.5945\n",
      "Epoch 5/100\n",
      "3839/3839 [==============================] - 44s 12ms/step - loss: 2.6318 - accuracy: 0.6046 - val_loss: 2.6556 - val_accuracy: 0.5997\n",
      "Epoch 6/100\n",
      "3839/3839 [==============================] - 45s 12ms/step - loss: 2.5705 - accuracy: 0.6077 - val_loss: 2.5709 - val_accuracy: 0.5990\n",
      "Epoch 7/100\n",
      "3839/3839 [==============================] - 45s 12ms/step - loss: 2.5034 - accuracy: 0.6102 - val_loss: 2.5290 - val_accuracy: 0.6017\n",
      "Epoch 8/100\n",
      "3839/3839 [==============================] - 45s 12ms/step - loss: 2.4666 - accuracy: 0.6097 - val_loss: 2.5180 - val_accuracy: 0.6055\n",
      "Epoch 9/100\n",
      "3839/3839 [==============================] - 45s 12ms/step - loss: 2.4164 - accuracy: 0.6111 - val_loss: 2.4543 - val_accuracy: 0.6072\n",
      "Epoch 10/100\n",
      "3839/3839 [==============================] - 45s 12ms/step - loss: 2.3914 - accuracy: 0.6113 - val_loss: 2.4625 - val_accuracy: 0.6069\n",
      "Epoch 11/100\n",
      "3839/3839 [==============================] - 45s 12ms/step - loss: 2.3469 - accuracy: 0.6148 - val_loss: 2.3751 - val_accuracy: 0.6086\n",
      "Epoch 12/100\n",
      "3839/3839 [==============================] - 49s 13ms/step - loss: 2.3339 - accuracy: 0.6132 - val_loss: 2.3638 - val_accuracy: 0.6084\n",
      "Epoch 13/100\n",
      "3839/3839 [==============================] - 44s 12ms/step - loss: 2.3324 - accuracy: 0.6141 - val_loss: 2.4095 - val_accuracy: 0.6019\n",
      "Epoch 14/100\n",
      "3839/3839 [==============================] - 44s 11ms/step - loss: 2.3015 - accuracy: 0.6125 - val_loss: 2.3426 - val_accuracy: 0.6076\n",
      "Epoch 15/100\n",
      "3839/3839 [==============================] - 45s 12ms/step - loss: 2.2748 - accuracy: 0.6151 - val_loss: 2.3419 - val_accuracy: 0.6087\n",
      "Epoch 16/100\n",
      "3839/3839 [==============================] - 45s 12ms/step - loss: 2.2739 - accuracy: 0.6133 - val_loss: 2.3015 - val_accuracy: 0.6075\n",
      "Epoch 17/100\n",
      "3839/3839 [==============================] - 45s 12ms/step - loss: 2.2588 - accuracy: 0.6144 - val_loss: 2.3389 - val_accuracy: 0.6093\n",
      "Epoch 18/100\n",
      "3839/3839 [==============================] - 45s 12ms/step - loss: 2.2480 - accuracy: 0.6143 - val_loss: 2.2886 - val_accuracy: 0.6076\n",
      "Epoch 19/100\n",
      "3839/3839 [==============================] - 45s 12ms/step - loss: 2.2345 - accuracy: 0.6149 - val_loss: 2.3056 - val_accuracy: 0.6052\n",
      "Epoch 20/100\n",
      "3839/3839 [==============================] - 45s 12ms/step - loss: 2.2367 - accuracy: 0.6148 - val_loss: 2.3043 - val_accuracy: 0.6063\n",
      "Epoch 21/100\n",
      "3839/3839 [==============================] - 45s 12ms/step - loss: 2.2294 - accuracy: 0.6156 - val_loss: 2.2833 - val_accuracy: 0.6095\n",
      "Epoch 22/100\n",
      "3839/3839 [==============================] - 53s 14ms/step - loss: 2.2231 - accuracy: 0.6149 - val_loss: 2.2549 - val_accuracy: 0.6130\n",
      "Epoch 23/100\n",
      "3839/3839 [==============================] - 45s 12ms/step - loss: 2.2145 - accuracy: 0.6148 - val_loss: 2.2756 - val_accuracy: 0.6057\n",
      "Epoch 24/100\n",
      "3839/3839 [==============================] - 45s 12ms/step - loss: 2.2087 - accuracy: 0.6154 - val_loss: 2.2540 - val_accuracy: 0.6092\n",
      "Epoch 25/100\n",
      "3839/3839 [==============================] - 45s 12ms/step - loss: 2.1975 - accuracy: 0.6146 - val_loss: 2.2427 - val_accuracy: 0.6098\n",
      "Epoch 26/100\n",
      "3839/3839 [==============================] - 45s 12ms/step - loss: 2.1913 - accuracy: 0.6153 - val_loss: 2.2775 - val_accuracy: 0.6097\n",
      "Epoch 27/100\n",
      "3839/3839 [==============================] - 45s 12ms/step - loss: 2.1949 - accuracy: 0.6167 - val_loss: 2.2681 - val_accuracy: 0.6062\n",
      "Epoch 28/100\n",
      "3839/3839 [==============================] - 45s 12ms/step - loss: 2.1992 - accuracy: 0.6146 - val_loss: 2.2248 - val_accuracy: 0.6133\n",
      "Epoch 29/100\n",
      "3839/3839 [==============================] - 44s 12ms/step - loss: 2.2036 - accuracy: 0.6140 - val_loss: 2.2665 - val_accuracy: 0.6075\n",
      "Epoch 30/100\n",
      "3839/3839 [==============================] - 45s 12ms/step - loss: 2.1907 - accuracy: 0.6152 - val_loss: 2.2390 - val_accuracy: 0.6087\n",
      "Epoch 31/100\n",
      "3839/3839 [==============================] - 45s 12ms/step - loss: 2.1875 - accuracy: 0.6153 - val_loss: 2.2244 - val_accuracy: 0.6106\n",
      "Epoch 32/100\n",
      "3839/3839 [==============================] - 45s 12ms/step - loss: 2.1851 - accuracy: 0.6142 - val_loss: 2.2356 - val_accuracy: 0.6083\n",
      "Epoch 33/100\n",
      "3839/3839 [==============================] - 45s 12ms/step - loss: 2.1830 - accuracy: 0.6143 - val_loss: 2.2339 - val_accuracy: 0.6089\n",
      "Epoch 34/100\n",
      "3839/3839 [==============================] - 45s 12ms/step - loss: 2.1652 - accuracy: 0.6168 - val_loss: 2.2206 - val_accuracy: 0.6067\n",
      "Epoch 35/100\n",
      "3839/3839 [==============================] - 45s 12ms/step - loss: 2.1703 - accuracy: 0.6150 - val_loss: 2.2087 - val_accuracy: 0.6051\n",
      "Epoch 36/100\n",
      "3839/3839 [==============================] - 45s 12ms/step - loss: 2.1673 - accuracy: 0.6159 - val_loss: 2.1987 - val_accuracy: 0.6048\n",
      "Epoch 37/100\n",
      "3839/3839 [==============================] - 45s 12ms/step - loss: 2.1570 - accuracy: 0.6145 - val_loss: 2.2143 - val_accuracy: 0.6061\n",
      "Epoch 38/100\n",
      "3839/3839 [==============================] - 45s 12ms/step - loss: 2.1502 - accuracy: 0.6142 - val_loss: 2.2173 - val_accuracy: 0.6055\n",
      "Epoch 41/100\n",
      "3839/3839 [==============================] - 45s 12ms/step - loss: 2.1685 - accuracy: 0.6151 - val_loss: 2.2120 - val_accuracy: 0.6080\n",
      "CPU times: user 12h 52min 24s, sys: 1h 52min 42s, total: 14h 45min 7s\n",
      "Wall time: 30min 50s\n"
     ]
    }
   ],
   "source": [
    "model2 = keras.models.Sequential([\n",
    "    keras.layers.Dense(50, input_shape = (56705,)  , activation = 'relu', kernel_regularizer = regularizers.l2(0.01)),\n",
    "    keras.layers.BatchNormalization(),\n",
    "    keras.layers.Dropout(0.2),\n",
    "    keras.layers.Dense(100, activation = \"relu\"),\n",
    "    keras.layers.BatchNormalization(),\n",
    "    keras.layers.Dropout(0.2),\n",
    "    keras.layers.Dense(150, activation = \"relu\"),\n",
    "    keras.layers.BatchNormalization(),\n",
    "    keras.layers.Dropout(0.2),   \n",
    "    keras.layers.Dense(6, activation = \"softmax\")\n",
    "])\n",
    "\n",
    "# Compile the model\n",
    "model2.compile(loss = \"categorical_crossentropy\", optimizer = \"adam\", metrics = ['accuracy'])\n",
    "\n",
    "# Define the early stopping callback\n",
    "early_stop = tf.keras.callbacks.EarlyStopping(monitor = 'val_loss', patience = 5)\n",
    "\n",
    "# Train the model with early stopping\n",
    "%time history = model2.fit(X_train_tensor, y_train_enc, batch_size = 32, epochs = 100, validation_data = (X_val_tensor, y_val_enc), callbacks = [early_stop])"
   ]
  },
  {
   "attachments": {},
   "cell_type": "markdown",
   "id": "d413626b-0968-48d4-b8bd-93a57b3cd778",
   "metadata": {},
   "source": [
    "### Training evaluation"
   ]
  },
  {
   "attachments": {},
   "cell_type": "markdown",
   "id": "d6394275-efc5-42fa-a078-69930163c2e3",
   "metadata": {},
   "source": [
    "**Loss curve**"
   ]
  },
  {
   "cell_type": "code",
   "execution_count": null,
   "id": "037e5d12-50a0-4549-87f7-2fef6e71f18b",
   "metadata": {
    "execution": {
     "iopub.execute_input": "2023-05-17T13:58:35.751866Z",
     "iopub.status.busy": "2023-05-17T13:58:35.751686Z",
     "iopub.status.idle": "2023-05-17T13:58:39.129513Z"
    },
    "tags": []
   },
   "outputs": [
    {
     "name": "stdout",
     "output_type": "stream",
     "text": [
      "960/960 - 3s - loss: 2.2120 - accuracy: 0.6080 - 3s/epoch - 3ms/step\n"
     ]
    },
    {
     "data": {
      "image/png": "[encoded data removed]",
      "text/plain": [
       "<Figure size 640x480 with 1 Axes>"
      ]
     },
     "metadata": {},
     "output_type": "display_data"
    }
   ],
   "source": [
    "# Evaluate loss (train vs. val)\n",
    "plt.plot(history.history['loss'], label='Training Loss')\n",
    "plt.plot(history.history['val_loss'], label = 'Validation Loss')\n",
    "plt.xlabel('Epoch')\n",
    "plt.ylabel('Loss')\n",
    "plt.ylim([0, 3])\n",
    "plt.legend(loc='upper right')\n",
    "\n",
    "validation_loss, validation_acc = model2.evaluate(X_val_tensor,  y_val_enc, verbose=2)"
   ]
  },
  {
   "cell_type": "code",
   "execution_count": 29,
   "id": "9282de79-1e85-4db9-a619-47e687301df5",
   "metadata": {
    "execution": {
     "iopub.execute_input": "2023-05-18T12:04:18.151151Z",
     "iopub.status.busy": "2023-05-18T12:04:18.150374Z",
     "iopub.status.idle": "2023-05-18T12:04:18.682659Z",
     "shell.execute_reply": "2023-05-18T12:04:18.681779Z",
     "shell.execute_reply.started": "2023-05-18T12:04:18.151094Z"
    },
    "tags": []
   },
   "outputs": [],
   "source": [
    "# Save model 2\n",
    "pickle.dump(model2, open('MLP_TFIDF.pkl', 'wb'))"
   ]
  },
  {
   "cell_type": "code",
   "execution_count": 30,
   "id": "11381bd9-dc58-4b16-870e-56bf812f5144",
   "metadata": {
    "execution": {
     "iopub.execute_input": "2023-05-18T12:05:03.703109Z",
     "iopub.status.busy": "2023-05-18T12:05:03.702350Z",
     "iopub.status.idle": "2023-05-18T12:05:04.418849Z",
     "shell.execute_reply": "2023-05-18T12:05:04.417983Z",
     "shell.execute_reply.started": "2023-05-18T12:05:03.703054Z"
    },
    "tags": []
   },
   "outputs": [],
   "source": [
    "# Load model 2\n",
    "model2 = pd.read_pickle(open('MLP_TFIDF.pkl', 'rb'))"
   ]
  },
  {
   "attachments": {},
   "cell_type": "markdown",
   "id": "2c922a49-9ec2-4088-8755-cf7df9171dac",
   "metadata": {},
   "source": [
    "### Predict and evaluate performance on the test set (out-of-sample)"
   ]
  },
  {
   "attachments": {},
   "cell_type": "markdown",
   "id": "2b282ebf-529f-495a-8f46-8659acb6103f",
   "metadata": {},
   "source": [
    "**Predict on the test set**"
   ]
  },
  {
   "cell_type": "code",
   "execution_count": 19,
   "id": "85200064-b141-4993-ab4d-ef8f9f2175df",
   "metadata": {
    "execution": {
     "iopub.execute_input": "2023-05-17T14:43:06.568811Z",
     "iopub.status.busy": "2023-05-17T14:43:06.568017Z",
     "iopub.status.idle": "2023-05-17T14:43:58.303428Z",
     "shell.execute_reply": "2023-05-17T14:43:58.301825Z",
     "shell.execute_reply.started": "2023-05-17T14:43:06.568751Z"
    },
    "tags": []
   },
   "outputs": [],
   "source": [
    "# Convert X test csr-matrix into tensor \n",
    "X_test_tensor = tf.convert_to_tensor(X_test_scaled.toarray())"
   ]
  },
  {
   "cell_type": "code",
   "execution_count": 24,
   "id": "28caf66d-7951-4c3d-bd28-e04bbd90c92c",
   "metadata": {
    "execution": {
     "iopub.execute_input": "2023-05-17T14:44:37.983824Z",
     "iopub.status.busy": "2023-05-17T14:44:37.983065Z",
     "iopub.status.idle": "2023-05-17T14:44:51.666580Z",
     "shell.execute_reply": "2023-05-17T14:44:51.665620Z",
     "shell.execute_reply.started": "2023-05-17T14:44:37.983766Z"
    },
    "tags": []
   },
   "outputs": [
    {
     "name": "stdout",
     "output_type": "stream",
     "text": [
      "3571/3571 [==============================] - 13s 4ms/step\n"
     ]
    }
   ],
   "source": [
    "# Predict the labels for the test set (enc)\n",
    "y_pred_prob_enc = model2.predict(X_test_tensor)"
   ]
  },
  {
   "cell_type": "code",
   "execution_count": 25,
   "id": "7425e59b-2319-4efe-9b52-e62569ce7732",
   "metadata": {
    "execution": {
     "iopub.execute_input": "2023-05-17T14:44:52.164834Z",
     "iopub.status.busy": "2023-05-17T14:44:52.164378Z",
     "iopub.status.idle": "2023-05-17T14:44:52.173672Z",
     "shell.execute_reply": "2023-05-17T14:44:52.172810Z",
     "shell.execute_reply.started": "2023-05-17T14:44:52.164801Z"
    },
    "tags": []
   },
   "outputs": [],
   "source": [
    "# Convert probabilities to class labels\n",
    "y_pred = np.argmax(y_pred_prob_enc, axis=1)\n",
    "y_test_labels = np.argmax(y_test_enc, axis=1)"
   ]
  },
  {
   "attachments": {},
   "cell_type": "markdown",
   "id": "0832deb5-95cb-495a-b76d-add817a1ae9e",
   "metadata": {},
   "source": [
    "**Confusion Matrix**"
   ]
  },
  {
   "cell_type": "code",
   "execution_count": 26,
   "id": "83947a1d-732f-4894-bbe0-429d5087831c",
   "metadata": {
    "execution": {
     "iopub.execute_input": "2023-05-17T14:44:53.507739Z",
     "iopub.status.busy": "2023-05-17T14:44:53.506946Z",
     "iopub.status.idle": "2023-05-17T14:44:53.538470Z",
     "shell.execute_reply": "2023-05-17T14:44:53.537554Z",
     "shell.execute_reply.started": "2023-05-17T14:44:53.507682Z"
    },
    "tags": []
   },
   "outputs": [
    {
     "name": "stdout",
     "output_type": "stream",
     "text": [
      "+---------+---------+---------+---------+---------+---------+---------+\n",
      "|         | Class 0 | Class 1 | Class 2 | Class 3 | Class 4 | Class 5 |\n",
      "+---------+---------+---------+---------+---------+---------+---------+\n",
      "| Class 0 |  29977  |   2523  |   2021  |   4908  |   1119  |   480   |\n",
      "| Class 1 |   3475  |  22570  |   1244  |   3428  |   903   |   494   |\n",
      "| Class 2 |   1066  |   587   |   4127  |   812   |   221   |   305   |\n",
      "| Class 3 |   4288  |   2104  |   1127  |  15511  |   882   |   286   |\n",
      "| Class 4 |   1994  |   1198  |   607   |   1835  |   1390  |   463   |\n",
      "| Class 5 |   255   |   252   |   372   |   254   |   150   |   1043  |\n",
      "+---------+---------+---------+---------+---------+---------+---------+\n"
     ]
    }
   ],
   "source": [
    "# Compute the confusion matrix\n",
    "confusion_mtx = confusion_matrix(y_test_labels, y_pred)\n",
    "\n",
    "# Create PrettyTable table object\n",
    "table = PrettyTable()\n",
    "table.field_names = [\"\", \"Class 0\", \"Class 1\", \"Class 2\", \"Class 3\", \"Class 4\", \"Class 5\"]\n",
    "\n",
    "# Add the rows to the table\n",
    "for i in range(len(confusion_mtx)):\n",
    "    row = [\"Class \" + str(i)]\n",
    "    row.extend(confusion_mtx[i])\n",
    "    table.add_row(row)\n",
    "\n",
    "# Print the confusion matrix table \n",
    "print(table)"
   ]
  },
  {
   "attachments": {},
   "cell_type": "markdown",
   "id": "76aa2670-d916-411e-8522-24967a597694",
   "metadata": {},
   "source": [
    "**Classification report**"
   ]
  },
  {
   "cell_type": "code",
   "execution_count": 27,
   "id": "e7b5e258-e67d-493d-b6ff-347b531aa7a6",
   "metadata": {
    "execution": {
     "iopub.execute_input": "2023-05-17T14:44:54.650862Z",
     "iopub.status.busy": "2023-05-17T14:44:54.650129Z",
     "iopub.status.idle": "2023-05-17T14:44:54.832605Z",
     "shell.execute_reply": "2023-05-17T14:44:54.831727Z",
     "shell.execute_reply.started": "2023-05-17T14:44:54.650803Z"
    },
    "tags": []
   },
   "outputs": [
    {
     "name": "stdout",
     "output_type": "stream",
     "text": [
      "+--------------+-----------+--------+----------+---------+\n",
      "|    Class     | Precision | Recall | F1-score | Support |\n",
      "+--------------+-----------+--------+----------+---------+\n",
      "|      0       |    0.73   |  0.73  |   0.73   |  41028  |\n",
      "|      1       |    0.77   |  0.7   |   0.74   |  32114  |\n",
      "|      2       |    0.43   |  0.58  |   0.5    |   7118  |\n",
      "|      3       |    0.58   |  0.64  |   0.61   |  24198  |\n",
      "|      4       |    0.3    |  0.19  |   0.23   |   7487  |\n",
      "|      5       |    0.34   |  0.45  |   0.39   |   2326  |\n",
      "|  macro avg   |    0.53   |  0.55  |   0.53   |         |\n",
      "| weighted avg |    0.66   |  0.65  |   0.65   |         |\n",
      "+--------------+-----------+--------+----------+---------+\n"
     ]
    }
   ],
   "source": [
    "# Generate the classification report\n",
    "class_report = classification_report(y_test_labels, y_pred, output_dict=True)\n",
    "\n",
    "# Create the PrettyTable\n",
    "table = PrettyTable()\n",
    "table.field_names = ['Class', 'Precision', 'Recall', 'F1-score', 'Support']\n",
    "\n",
    "# Loop through each class in the classification report and add its metrics to the table\n",
    "for class_name, metrics in class_report.items():\n",
    "    if class_name.isnumeric():\n",
    "        class_id = int(class_name)\n",
    "        precision = round(metrics['precision'], 2)\n",
    "        recall = round(metrics['recall'], 2)\n",
    "        f1_score = round(metrics['f1-score'], 2)\n",
    "        support = metrics['support']\n",
    "        table.add_row([class_id, precision, recall, f1_score, support])\n",
    "\n",
    "# Add the macro and weighted averages to the table\n",
    "macro_precision = round(class_report['macro avg']['precision'], 2)\n",
    "macro_recall = round(class_report['macro avg']['recall'], 2)\n",
    "macro_f1_score = round(class_report['macro avg']['f1-score'], 2)\n",
    "table.add_row(['macro avg', macro_precision, macro_recall, macro_f1_score, ''])\n",
    "\n",
    "weighted_precision = round(class_report['weighted avg']['precision'], 2)\n",
    "weighted_recall = round(class_report['weighted avg']['recall'], 2)\n",
    "weighted_f1_score = round(class_report['weighted avg']['f1-score'], 2)\n",
    "table.add_row(['weighted avg', weighted_precision, weighted_recall, weighted_f1_score, ''])\n",
    "\n",
    "# Print the table\n",
    "print(table)"
   ]
  }
 ],
 "metadata": {
  "kernelspec": {
   "display_name": "Python 3 (ipykernel)",
   "language": "python",
   "name": "python3"
  },
  "language_info": {
   "codemirror_mode": {
    "name": "ipython",
    "version": 3
   },
   "file_extension": ".py",
   "mimetype": "text/x-python",
   "name": "python",
   "nbconvert_exporter": "python",
   "pygments_lexer": "ipython3",
   "version": "3.9.13"
  }
 },
 "nbformat": 4,
 "nbformat_minor": 5
}
